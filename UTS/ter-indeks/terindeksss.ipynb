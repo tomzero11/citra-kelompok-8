{
 "cells": [
  {
   "cell_type": "code",
   "execution_count": 1,
   "metadata": {},
   "outputs": [
    {
     "ename": "NameError",
     "evalue": "name 'url' is not defined",
     "output_type": "error",
     "traceback": [
      "\u001b[0;31m---------------------------------------------------------------------------\u001b[0m",
      "\u001b[0;31mNameError\u001b[0m                                 Traceback (most recent call last)",
      "Cell \u001b[0;32mIn[1], line 9\u001b[0m\n\u001b[1;32m      5\u001b[0m \u001b[38;5;28;01mimport\u001b[39;00m \u001b[38;5;21;01mio\u001b[39;00m\n\u001b[1;32m      8\u001b[0m \u001b[38;5;66;03m# Buka gambar dari URL\u001b[39;00m\n\u001b[0;32m----> 9\u001b[0m \u001b[38;5;28;01mwith\u001b[39;00m urllib\u001b[38;5;241m.\u001b[39mrequest\u001b[38;5;241m.\u001b[39murlopen(\u001b[43murl\u001b[49m) \u001b[38;5;28;01mas\u001b[39;00m response:\n\u001b[1;32m     10\u001b[0m     image_file \u001b[38;5;241m=\u001b[39m io\u001b[38;5;241m.\u001b[39mBytesIO(response\u001b[38;5;241m.\u001b[39mread())\n\u001b[1;32m     12\u001b[0m \u001b[38;5;66;03m# Load gambar\u001b[39;00m\n",
      "\u001b[0;31mNameError\u001b[0m: name 'url' is not defined"
     ]
    }
   ],
   "source": [
    "import numpy as np\n",
    "from PIL import Image\n",
    "import matplotlib.pyplot as plt\n",
    "import urllib.request\n",
    "import io\n",
    "\n",
    "\n",
    "# Buka gambar dari URL\n",
    "with urllib.request.urlopen(url) as response:\n",
    "    image_file = io.BytesIO(response.read())\n",
    "\n",
    "# Load gambar\n",
    "image = Image.open(image_file).convert(\"RGB\")\n",
    "image_np = np.array(image)\n",
    "\n",
    "# Ukuran gambar\n",
    "h, w, c = image_np.shape\n",
    "\n",
    "# Definisikan palette warna: [Hitam, Merah, Biru, Hijau]\n",
    "palette = np.array([\n",
    "    [0, 0, 0],       # Hitam\n",
    "    [255, 0, 0],     # Merah\n",
    "    [0, 0, 255],     # Biru\n",
    "    [0, 255, 0]      # Hijau\n",
    "])\n",
    "\n",
    "# Membuat array kosong untuk citra terindeks\n",
    "indexed_image = np.zeros((h, w), dtype=np.uint8)\n",
    "\n",
    "# Looping semua pixel\n",
    "for i in range(h):\n",
    "    for j in range(w):\n",
    "        pixel = image_np[i, j]\n",
    "\n",
    "        # Hitung jarak Euclidean ke semua warna dalam palette\n",
    "        distances = np.linalg.norm(palette - pixel, axis=1)\n",
    "\n",
    "        # Cari index warna terdekat\n",
    "        nearest_color_index = np.argmin(distances)\n",
    "\n",
    "        # Simpan indexnya\n",
    "        indexed_image[i, j] = nearest_color_index\n",
    "\n",
    "\n",
    "# Tampilkan hasilnya\n",
    "plt.figure(figsize=(15,5))\n",
    "\n",
    "plt.subplot(1,3,1)\n",
    "plt.title(\"Original RGB Image\")\n",
    "plt.imshow(image_np)\n",
    "plt.axis('off')\n",
    "\n",
    "plt.subplot(1,3,2)\n",
    "plt.title(\"Indexed Image (Label Map)\")\n",
    "plt.imshow(indexed_image, cmap='tab10')  # Cmap tab10 biar beda warna indexnya\n",
    "plt.axis('off')\n",
    "\n",
    "plt.show()"
   ]
  }
 ],
 "metadata": {
  "kernelspec": {
   "display_name": "tomset",
   "language": "python",
   "name": "python3"
  },
  "language_info": {
   "codemirror_mode": {
    "name": "ipython",
    "version": 3
   },
   "file_extension": ".py",
   "mimetype": "text/x-python",
   "name": "python",
   "nbconvert_exporter": "python",
   "pygments_lexer": "ipython3",
   "version": "3.10.13"
  }
 },
 "nbformat": 4,
 "nbformat_minor": 2
}
